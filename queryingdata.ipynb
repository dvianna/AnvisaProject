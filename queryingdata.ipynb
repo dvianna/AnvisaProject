{
 "cells": [
  {
   "cell_type": "markdown",
   "id": "804e25a5",
   "metadata": {},
   "source": [
    "Installing packages..."
   ]
  },
  {
   "cell_type": "code",
   "execution_count": 5,
   "id": "acfd15cb",
   "metadata": {},
   "outputs": [
    {
     "name": "stdout",
     "output_type": "stream",
     "text": [
      "Python 3.9.13\r\n"
     ]
    }
   ],
   "source": [
    "!python --version"
   ]
  },
  {
   "cell_type": "code",
   "execution_count": 91,
   "id": "ed31adf8",
   "metadata": {},
   "outputs": [
    {
     "name": "stdout",
     "output_type": "stream",
     "text": [
      "Requirement already satisfied: langchain==0.0.230 in /home/dvianna/anaconda3/lib/python3.9/site-packages (0.0.230)\n",
      "Requirement already satisfied: dataclasses-json<0.6.0,>=0.5.7 in /home/dvianna/anaconda3/lib/python3.9/site-packages (from langchain==0.0.230) (0.5.7)\n",
      "Requirement already satisfied: tenacity<9.0.0,>=8.1.0 in /home/dvianna/anaconda3/lib/python3.9/site-packages (from langchain==0.0.230) (8.2.2)\n",
      "Requirement already satisfied: numexpr<3.0.0,>=2.8.4 in /home/dvianna/anaconda3/lib/python3.9/site-packages (from langchain==0.0.230) (2.8.4)\n",
      "Requirement already satisfied: numpy<2,>=1 in /home/dvianna/anaconda3/lib/python3.9/site-packages (from langchain==0.0.230) (1.24.4)\n",
      "Requirement already satisfied: pydantic<2,>=1 in /home/dvianna/anaconda3/lib/python3.9/site-packages (from langchain==0.0.230) (1.10.11)\n",
      "Requirement already satisfied: openapi-schema-pydantic<2.0,>=1.2 in /home/dvianna/anaconda3/lib/python3.9/site-packages (from langchain==0.0.230) (1.2.4)\n",
      "Requirement already satisfied: requests<3,>=2 in /home/dvianna/anaconda3/lib/python3.9/site-packages (from langchain==0.0.230) (2.28.1)\n",
      "Requirement already satisfied: async-timeout<5.0.0,>=4.0.0 in /home/dvianna/anaconda3/lib/python3.9/site-packages (from langchain==0.0.230) (4.0.2)\n",
      "Requirement already satisfied: langchainplus-sdk<0.0.21,>=0.0.20 in /home/dvianna/anaconda3/lib/python3.9/site-packages (from langchain==0.0.230) (0.0.20)\n",
      "Requirement already satisfied: SQLAlchemy<3,>=1.4 in /home/dvianna/anaconda3/lib/python3.9/site-packages (from langchain==0.0.230) (1.4.39)\n",
      "Requirement already satisfied: aiohttp<4.0.0,>=3.8.3 in /home/dvianna/anaconda3/lib/python3.9/site-packages (from langchain==0.0.230) (3.8.4)\n",
      "Requirement already satisfied: PyYAML>=5.4.1 in /home/dvianna/anaconda3/lib/python3.9/site-packages (from langchain==0.0.230) (6.0)\n",
      "Requirement already satisfied: attrs>=17.3.0 in /home/dvianna/anaconda3/lib/python3.9/site-packages (from aiohttp<4.0.0,>=3.8.3->langchain==0.0.230) (21.4.0)\n",
      "Requirement already satisfied: aiosignal>=1.1.2 in /home/dvianna/anaconda3/lib/python3.9/site-packages (from aiohttp<4.0.0,>=3.8.3->langchain==0.0.230) (1.3.1)\n",
      "Requirement already satisfied: multidict<7.0,>=4.5 in /home/dvianna/anaconda3/lib/python3.9/site-packages (from aiohttp<4.0.0,>=3.8.3->langchain==0.0.230) (6.0.4)\n",
      "Requirement already satisfied: charset-normalizer<4.0,>=2.0 in /home/dvianna/anaconda3/lib/python3.9/site-packages (from aiohttp<4.0.0,>=3.8.3->langchain==0.0.230) (2.0.4)\n",
      "Requirement already satisfied: yarl<2.0,>=1.0 in /home/dvianna/anaconda3/lib/python3.9/site-packages (from aiohttp<4.0.0,>=3.8.3->langchain==0.0.230) (1.9.2)\n",
      "Requirement already satisfied: frozenlist>=1.1.1 in /home/dvianna/anaconda3/lib/python3.9/site-packages (from aiohttp<4.0.0,>=3.8.3->langchain==0.0.230) (1.3.3)\n",
      "Requirement already satisfied: marshmallow<4.0.0,>=3.3.0 in /home/dvianna/anaconda3/lib/python3.9/site-packages (from dataclasses-json<0.6.0,>=0.5.7->langchain==0.0.230) (3.19.0)\n",
      "Requirement already satisfied: typing-inspect>=0.4.0 in /home/dvianna/anaconda3/lib/python3.9/site-packages (from dataclasses-json<0.6.0,>=0.5.7->langchain==0.0.230) (0.8.0)\n",
      "Requirement already satisfied: marshmallow-enum<2.0.0,>=1.5.1 in /home/dvianna/anaconda3/lib/python3.9/site-packages (from dataclasses-json<0.6.0,>=0.5.7->langchain==0.0.230) (1.5.1)\n",
      "Requirement already satisfied: typing-extensions>=4.2.0 in /home/dvianna/anaconda3/lib/python3.9/site-packages (from pydantic<2,>=1->langchain==0.0.230) (4.5.0)\n",
      "Requirement already satisfied: urllib3<1.27,>=1.21.1 in /home/dvianna/anaconda3/lib/python3.9/site-packages (from requests<3,>=2->langchain==0.0.230) (1.26.11)\n",
      "Requirement already satisfied: idna<4,>=2.5 in /home/dvianna/anaconda3/lib/python3.9/site-packages (from requests<3,>=2->langchain==0.0.230) (3.3)\n",
      "Requirement already satisfied: certifi>=2017.4.17 in /home/dvianna/anaconda3/lib/python3.9/site-packages (from requests<3,>=2->langchain==0.0.230) (2022.9.14)\n",
      "Requirement already satisfied: greenlet!=0.4.17 in /home/dvianna/anaconda3/lib/python3.9/site-packages (from SQLAlchemy<3,>=1.4->langchain==0.0.230) (1.1.1)\n",
      "Requirement already satisfied: packaging>=17.0 in /home/dvianna/anaconda3/lib/python3.9/site-packages (from marshmallow<4.0.0,>=3.3.0->dataclasses-json<0.6.0,>=0.5.7->langchain==0.0.230) (21.3)\n",
      "Requirement already satisfied: mypy-extensions>=0.3.0 in /home/dvianna/anaconda3/lib/python3.9/site-packages (from typing-inspect>=0.4.0->dataclasses-json<0.6.0,>=0.5.7->langchain==0.0.230) (0.4.3)\n",
      "Requirement already satisfied: pyparsing!=3.0.5,>=2.0.2 in /home/dvianna/anaconda3/lib/python3.9/site-packages (from packaging>=17.0->marshmallow<4.0.0,>=3.3.0->dataclasses-json<0.6.0,>=0.5.7->langchain==0.0.230) (3.0.9)\n"
     ]
    }
   ],
   "source": [
    "# !pip install langchain==0.0.230\n",
    "# !pip install transformers\n",
    "# !pip install faiss-gpu"
   ]
  },
  {
   "cell_type": "markdown",
   "id": "12e75722",
   "metadata": {},
   "source": [
    "Importing libraries..."
   ]
  },
  {
   "cell_type": "code",
   "execution_count": 1,
   "id": "d5972f55",
   "metadata": {},
   "outputs": [],
   "source": [
    "from langchain.document_loaders.csv_loader import CSVLoader\n",
    "from langchain.embeddings import HuggingFaceEmbeddings\n",
    "from langchain.vectorstores import FAISS\n",
    "import os"
   ]
  },
  {
   "cell_type": "markdown",
   "id": "3ebb3b77",
   "metadata": {},
   "source": [
    "## Document loading..."
   ]
  },
  {
   "cell_type": "code",
   "execution_count": 2,
   "id": "5cbdcfcd",
   "metadata": {},
   "outputs": [
    {
     "name": "stdout",
     "output_type": "stream",
     "text": [
      "1238\n"
     ]
    }
   ],
   "source": [
    "loader = CSVLoader(file_path = 'anvisa_dataset.csv', \n",
    "                   csv_args = {'delimiter': '\\t'})\n",
    "data = loader.load()\n",
    "print(len(data))"
   ]
  },
  {
   "cell_type": "code",
   "execution_count": 3,
   "id": "d3f8ebe0",
   "metadata": {},
   "outputs": [
    {
     "name": "stdout",
     "output_type": "stream",
     "text": [
      "page_content='Empresa: Desconhecida - CNPJ: Desconhecido\\nProdutoLote: GEL ANTISSÉPTICO ASSEPTGEL CRISTAL 100 ML (Todos);\\nTipoProduto: Cosmético\\nExpedienteNo: 3560796/20-3\\nAssunto:: 70351 - MEDIDA PREVENTIVA- Ações de Fiscalização em Vigilância Sanitária\\nAcaoFiscalizacao: Apreensão, Proibição - Comercialização, Distribuição, Fabricação, Propaganda, Uso\\nMotivacao: Considerando que a empresa Lima & Pergher Indústria e Comércio S/A, CNPJ 22.685.341/0001-80, não reconhece a fabricação do produto em embalagem de 100 mL, se tratando, portanto, de falsificação, e se tratando também de produto sem registro e fabricado por empresa desconhecida infringindo os arts. 2º e 12 da Lei 6360, de 23 de setembro de 1976 e tendo em vista o previsto nos arts 6º, 7º e inciso I do art. 67 da Lei 6360, de 23 de setembro de 1976.' metadata={'source': 'anvisa_dataset.csv', 'row': 0}\n"
     ]
    }
   ],
   "source": [
    "print(data[0])"
   ]
  },
  {
   "cell_type": "code",
   "execution_count": 4,
   "id": "7cc043f2",
   "metadata": {},
   "outputs": [
    {
     "data": {
      "text/plain": [
       "'Empresa: Desconhecida - CNPJ: Desconhecido\\nProdutoLote: GEL ANTISSÉPTICO ASSEPTGEL CRISTAL 100 ML (Todos);\\nTipoProduto: Cosmético\\nExpedienteNo: 3560796/20-3\\nAssunto:: 70351 - MEDIDA PREVENTIVA- Ações de Fiscalização em Vigilância Sanitária\\nAcaoFiscalizacao: Apreensão, Proibição - Comercialização, Distribuição, Fabricação, Propaganda, Uso\\nMotivacao: Considerando que a empresa Lima & Pergher Indústria e Comércio S/A, CNPJ 22.685.341/0001-80, não reconhece a fabricação do produto em embalagem de 100 mL, se tratando, portanto, de falsificação, e se tratando também de produto sem registro e fabricado por empresa desconhecida infringindo os arts. 2º e 12 da Lei 6360, de 23 de setembro de 1976 e tendo em vista o previsto nos arts 6º, 7º e inciso I do art. 67 da Lei 6360, de 23 de setembro de 1976.'"
      ]
     },
     "execution_count": 4,
     "metadata": {},
     "output_type": "execute_result"
    }
   ],
   "source": [
    "content = data[0].page_content\n",
    "content"
   ]
  },
  {
   "cell_type": "markdown",
   "id": "f30040c6",
   "metadata": {},
   "source": [
    "## Loading language model to generate embeddings for each item in our dataset"
   ]
  },
  {
   "cell_type": "code",
   "execution_count": 5,
   "id": "dc8af463",
   "metadata": {},
   "outputs": [
    {
     "name": "stderr",
     "output_type": "stream",
     "text": [
      "No sentence-transformers model found with name /home/dvianna/.cache/torch/sentence_transformers/pucpr_biobertpt-all. Creating a new one with MEAN pooling.\n",
      "Some weights of the model checkpoint at /home/dvianna/.cache/torch/sentence_transformers/pucpr_biobertpt-all were not used when initializing BertModel: ['cls.predictions.decoder.bias', 'cls.predictions.transform.dense.bias', 'cls.predictions.transform.LayerNorm.bias', 'cls.predictions.transform.LayerNorm.weight', 'cls.predictions.transform.dense.weight', 'cls.predictions.bias', 'cls.predictions.decoder.weight']\n",
      "- This IS expected if you are initializing BertModel from the checkpoint of a model trained on another task or with another architecture (e.g. initializing a BertForSequenceClassification model from a BertForPreTraining model).\n",
      "- This IS NOT expected if you are initializing BertModel from the checkpoint of a model that you expect to be exactly identical (initializing a BertForSequenceClassification model from a BertForSequenceClassification model).\n"
     ]
    }
   ],
   "source": [
    "model_name = \"pucpr/biobertpt-all\"\n",
    "model_kwargs = {'device': 'cuda'}\n",
    "embedding = HuggingFaceEmbeddings(\n",
    "    model_name=model_name, \n",
    "    model_kwargs=model_kwargs\n",
    ")"
   ]
  },
  {
   "cell_type": "markdown",
   "id": "f1a030d2",
   "metadata": {},
   "source": [
    "## Retrieval - FAISS"
   ]
  },
  {
   "cell_type": "code",
   "execution_count": 14,
   "id": "56c3ba41",
   "metadata": {},
   "outputs": [],
   "source": [
    "# Check if FAISS index exists. If not, create one\n",
    "if os.path.exists('vectorstore/faiss/'):\n",
    "    index = FAISS.load_local(folder_path='vectorstore/faiss/', embeddings=embedding)\n",
    "else:\n",
    "    # create faiss index\n",
    "    index = FAISS.from_documents(data, embedding)   \n",
    "    # Save the index to be loaded in the future\n",
    "    index.save_local(folder_path='vectorstore/faiss/')"
   ]
  },
  {
   "cell_type": "code",
   "execution_count": 15,
   "id": "d16f32e4",
   "metadata": {},
   "outputs": [],
   "source": [
    "# Quey\n",
    "query = 'European Directorate for the Quality of Medicines & HealthCare'"
   ]
  },
  {
   "cell_type": "code",
   "execution_count": 16,
   "id": "9e6dc8d9",
   "metadata": {},
   "outputs": [
    {
     "data": {
      "text/plain": [
       "[Document(page_content='Empresa: 3.  SMS PHARMACEUTICALS LIMITED\\nProdutoLote: \\nTipoProduto: Insumo Farmacêutico\\nExpedienteNo: 2515132/19-1\\nAssunto:: 70351 - MEDIDA PREVENTIVA- Ações de Fiscalização em Vigilância Sanitária\\nAcaoFiscalizacao: Suspensão - Distribuição, Importação, Uso\\nMotivacao: Considerando a suspensão pelo European Directorate for the Quality of Medicines & HealthCare - EDQM do certificado de adequabilidade em razão da presença da impureza NDMA, para o insumo Cloridrato de Ranitidina, fabricado pela empresa SMS Pharmaceuticals Limited. UNIT VII, localizada no Endereço Poosapatirega Mandal, Vizianagaram District India - 535 204 Kandivalasa Village, Andhra Pradesh, Índia.', metadata={'source': 'anvisa_dataset.csv', 'row': 682}),\n",
       " Document(page_content='Empresa: 3.  SMS PHARMACEUTICALS LIMITED\\nProdutoLote: \\nTipoProduto: Insumo Farmacêutico\\nExpedienteNo: 2515132/19-1\\nAssunto:: 70351 - MEDIDA PREVENTIVA- Ações de Fiscalização em Vigilância Sanitária\\nAcaoFiscalizacao: Suspensão - Distribuição, Importação, Uso\\nMotivacao: Considerando a suspensão pelo European Directorate for the Quality of Medicines & HealthCare - EDQM do certificado de adequabilidade em razão da presença da impureza NDMA, para o insumo Cloridrato de Ranitidina, fabricado pela empresa SMS Pharmaceuticals Limited. UNIT VII, localizada no Endereço Poosapatirega Mandal, Vizianagaram District India - 535 204 Kandivalasa Village, Andhra Pradesh, Índia.', metadata={'source': 'anvisa_dataset.csv', 'row': 1040}),\n",
       " Document(page_content='Empresa: 1.  SMS PHARMACEUTICALS LIMITED\\nProdutoLote: \\nTipoProduto: Insumo Farmacêutico\\nExpedienteNo: 3364435/19-7\\nAssunto:: 70351 - MEDIDA PREVENTIVA- Ações de Fiscalização em Vigilância Sanitária\\nAcaoFiscalizacao: Suspensão - Comercialização, Distribuição, Importação, Uso\\nMotivacao: Considerando a suspensão pelo European Directorate for the Quality of Medicines & HealthCare - EDQM do certificado de adequabilidade em razão da presença da impureza NDMA, para o insumo Cloridrato de Ranitidina, fabricado pela empresa SMS Pharmaceuticals Limited - Índia.', metadata={'source': 'anvisa_dataset.csv', 'row': 5})]"
      ]
     },
     "execution_count": 16,
     "metadata": {},
     "output_type": "execute_result"
    }
   ],
   "source": [
    "# based on relevance\n",
    "index.similarity_search(query, k=3)"
   ]
  },
  {
   "cell_type": "code",
   "execution_count": 17,
   "id": "1b78d9a5",
   "metadata": {},
   "outputs": [
    {
     "data": {
      "text/plain": [
       "[Document(page_content='Empresa: 1.  SMS PHARMACEUTICALS LIMITED\\nProdutoLote: \\nTipoProduto: Insumo Farmacêutico\\nExpedienteNo: 3364435/19-7\\nAssunto:: 70351 - MEDIDA PREVENTIVA- Ações de Fiscalização em Vigilância Sanitária\\nAcaoFiscalizacao: Suspensão - Comercialização, Distribuição, Importação, Uso\\nMotivacao: Considerando a suspensão pelo European Directorate for the Quality of Medicines & HealthCare - EDQM do certificado de adequabilidade em razão da presença da impureza NDMA, para o insumo Cloridrato de Ranitidina, fabricado pela empresa SMS Pharmaceuticals Limited - Índia.', metadata={'source': 'anvisa_dataset.csv', 'row': 5}),\n",
       " Document(page_content=\"Empresa: 1.  DR. REDDY´S LABORATORIES LIMITED\\nProdutoLote: \\nTipoProduto: Insumo Farmacêutico\\nExpedienteNo: 2515189/19-4\\nAssunto:: 70351 - MEDIDA PREVENTIVA- Ações de Fiscalização em Vigilância Sanitária\\nAcaoFiscalizacao: Suspensão - Comercialização, Distribuição, Importação, Uso\\nMotivacao: Considerando a suspensão pelo European Directorate for the Quality of Medicines & HealthCare - EDQM do certificado de adequabilidade em razão da presença da impureza NDMA, para o insumo Cloridrato de Ranitidina, fabricado pela empresa Dr. Reddy's Laboratoires Limited UNIT V, localizada no Endereço Miryalaguda Taluk Tripuraram Mandal, Nalgonga District India-508 207 Peddadevulapalli Village, Telengana, Índia.\", metadata={'source': 'anvisa_dataset.csv', 'row': 1038}),\n",
       " Document(page_content='Empresa: 3.  SMS PHARMACEUTICALS LIMITED\\nProdutoLote: \\nTipoProduto: Insumo Farmacêutico\\nExpedienteNo: 2515132/19-1\\nAssunto:: 70351 - MEDIDA PREVENTIVA- Ações de Fiscalização em Vigilância Sanitária\\nAcaoFiscalizacao: Suspensão - Distribuição, Importação, Uso\\nMotivacao: Considerando a suspensão pelo European Directorate for the Quality of Medicines & HealthCare - EDQM do certificado de adequabilidade em razão da presença da impureza NDMA, para o insumo Cloridrato de Ranitidina, fabricado pela empresa SMS Pharmaceuticals Limited. UNIT VII, localizada no Endereço Poosapatirega Mandal, Vizianagaram District India - 535 204 Kandivalasa Village, Andhra Pradesh, Índia.', metadata={'source': 'anvisa_dataset.csv', 'row': 1040})]"
      ]
     },
     "execution_count": 17,
     "metadata": {},
     "output_type": "execute_result"
    }
   ],
   "source": [
    "# based on relevance and diversity\n",
    "index.max_marginal_relevance_search(query, k=3)"
   ]
  },
  {
   "cell_type": "code",
   "execution_count": 18,
   "id": "15052a05",
   "metadata": {},
   "outputs": [
    {
     "data": {
      "text/plain": [
       "[(Document(page_content='Empresa: 3.  SMS PHARMACEUTICALS LIMITED\\nProdutoLote: \\nTipoProduto: Insumo Farmacêutico\\nExpedienteNo: 2515132/19-1\\nAssunto:: 70351 - MEDIDA PREVENTIVA- Ações de Fiscalização em Vigilância Sanitária\\nAcaoFiscalizacao: Suspensão - Distribuição, Importação, Uso\\nMotivacao: Considerando a suspensão pelo European Directorate for the Quality of Medicines & HealthCare - EDQM do certificado de adequabilidade em razão da presença da impureza NDMA, para o insumo Cloridrato de Ranitidina, fabricado pela empresa SMS Pharmaceuticals Limited. UNIT VII, localizada no Endereço Poosapatirega Mandal, Vizianagaram District India - 535 204 Kandivalasa Village, Andhra Pradesh, Índia.', metadata={'source': 'anvisa_dataset.csv', 'row': 682}),\n",
       "  45.944027),\n",
       " (Document(page_content='Empresa: 3.  SMS PHARMACEUTICALS LIMITED\\nProdutoLote: \\nTipoProduto: Insumo Farmacêutico\\nExpedienteNo: 2515132/19-1\\nAssunto:: 70351 - MEDIDA PREVENTIVA- Ações de Fiscalização em Vigilância Sanitária\\nAcaoFiscalizacao: Suspensão - Distribuição, Importação, Uso\\nMotivacao: Considerando a suspensão pelo European Directorate for the Quality of Medicines & HealthCare - EDQM do certificado de adequabilidade em razão da presença da impureza NDMA, para o insumo Cloridrato de Ranitidina, fabricado pela empresa SMS Pharmaceuticals Limited. UNIT VII, localizada no Endereço Poosapatirega Mandal, Vizianagaram District India - 535 204 Kandivalasa Village, Andhra Pradesh, Índia.', metadata={'source': 'anvisa_dataset.csv', 'row': 1040}),\n",
       "  45.944027),\n",
       " (Document(page_content='Empresa: 1.  SMS PHARMACEUTICALS LIMITED\\nProdutoLote: \\nTipoProduto: Insumo Farmacêutico\\nExpedienteNo: 3364435/19-7\\nAssunto:: 70351 - MEDIDA PREVENTIVA- Ações de Fiscalização em Vigilância Sanitária\\nAcaoFiscalizacao: Suspensão - Comercialização, Distribuição, Importação, Uso\\nMotivacao: Considerando a suspensão pelo European Directorate for the Quality of Medicines & HealthCare - EDQM do certificado de adequabilidade em razão da presença da impureza NDMA, para o insumo Cloridrato de Ranitidina, fabricado pela empresa SMS Pharmaceuticals Limited - Índia.', metadata={'source': 'anvisa_dataset.csv', 'row': 5}),\n",
       "  46.57393)]"
      ]
     },
     "execution_count": 18,
     "metadata": {},
     "output_type": "execute_result"
    }
   ],
   "source": [
    "index.similarity_search_with_score(query, k=3)"
   ]
  },
  {
   "cell_type": "markdown",
   "id": "5bf2d8f9",
   "metadata": {},
   "source": [
    "## Retrieval - Contextual Compression"
   ]
  },
  {
   "cell_type": "code",
   "execution_count": 19,
   "id": "e16368cd",
   "metadata": {},
   "outputs": [],
   "source": [
    "from langchain.retrievers import ContextualCompressionRetriever\n",
    "from langchain.retrievers.document_compressors import LLMChainExtractor\n",
    "from langchain import HuggingFacePipeline"
   ]
  },
  {
   "cell_type": "code",
   "execution_count": 20,
   "id": "1a50c7a0",
   "metadata": {},
   "outputs": [
    {
     "name": "stderr",
     "output_type": "stream",
     "text": [
      "Device has 1 GPUs available. Provide device={deviceId} to `from_model_id` to use availableGPUs for execution. deviceId is -1 (default) for CPU and can be a positive integer associated with CUDA device id.\n"
     ]
    }
   ],
   "source": [
    "model_id = \"bigscience/bloomz-1b7\"\n",
    "llm = HuggingFacePipeline.from_model_id(\n",
    "    model_id=model_id,\n",
    "    task=\"text-generation\",\n",
    "    model_kwargs={\"temperature\": 0, \"max_length\": 512}\n",
    ")"
   ]
  },
  {
   "cell_type": "code",
   "execution_count": 21,
   "id": "6f992b75",
   "metadata": {},
   "outputs": [],
   "source": [
    "compressor = LLMChainExtractor.from_llm(llm)"
   ]
  },
  {
   "cell_type": "code",
   "execution_count": 22,
   "id": "850f29e1",
   "metadata": {},
   "outputs": [],
   "source": [
    "# Retrieval + document compression\n",
    "# After retrieving the relevant documents, those documents are compressed. It means that only the relevant \n",
    "# information of each document, regarding the query context, is returned. \n",
    "retriever = ContextualCompressionRetriever(\n",
    "    base_compressor=compressor,\n",
    "    base_retriever=index.as_retriever(k=3)\n",
    ")"
   ]
  },
  {
   "cell_type": "code",
   "execution_count": 23,
   "id": "b51c674f",
   "metadata": {},
   "outputs": [
    {
     "name": "stderr",
     "output_type": "stream",
     "text": [
      "/home/dvianna/anaconda3/lib/python3.9/site-packages/langchain/chains/llm.py:275: UserWarning: The predict_and_parse method is deprecated, instead pass an output parser directly to LLMChain.\n",
      "  warnings.warn(\n",
      "/home/dvianna/anaconda3/lib/python3.9/site-packages/transformers/generation/utils.py:1313: UserWarning: Using `max_length`'s default (512) to control the generation length. This behaviour is deprecated and will be removed from the config in v5 of Transformers -- we recommend using `max_new_tokens` to control the maximum length of the generation.\n",
      "  warnings.warn(\n"
     ]
    }
   ],
   "source": [
    "query = 'European Directorate for the Quality of Medicines & HealthCare'\n",
    "compressed_docs = retriever.get_relevant_documents(query)"
   ]
  },
  {
   "cell_type": "code",
   "execution_count": 24,
   "id": "5e2436e0",
   "metadata": {},
   "outputs": [
    {
     "name": "stdout",
     "output_type": "stream",
     "text": [
      "0: *AS IS*\n",
      "1: *AS IS*\n",
      "2: *AS IS*\n",
      "3: Suspensão\n"
     ]
    }
   ],
   "source": [
    "for i, doc in enumerate(compressed_docs):\n",
    "    print('%d: %s' % (i, doc.page_content))"
   ]
  },
  {
   "cell_type": "code",
   "execution_count": null,
   "id": "8f260f3a",
   "metadata": {},
   "outputs": [],
   "source": []
  }
 ],
 "metadata": {
  "kernelspec": {
   "display_name": "Python 3 (ipykernel)",
   "language": "python",
   "name": "python3"
  },
  "language_info": {
   "codemirror_mode": {
    "name": "ipython",
    "version": 3
   },
   "file_extension": ".py",
   "mimetype": "text/x-python",
   "name": "python",
   "nbconvert_exporter": "python",
   "pygments_lexer": "ipython3",
   "version": "3.9.13"
  }
 },
 "nbformat": 4,
 "nbformat_minor": 5
}

{
 "cells": [
  {
   "cell_type": "code",
   "execution_count": 1,
   "id": "fa615932",
   "metadata": {},
   "outputs": [],
   "source": [
    "import openpyxl\n",
    "import pandas as pd"
   ]
  },
  {
   "cell_type": "code",
   "execution_count": null,
   "id": "3223b9fb",
   "metadata": {},
   "outputs": [],
   "source": []
  },
  {
   "cell_type": "code",
   "execution_count": 5,
   "id": "e71c34fe",
   "metadata": {},
   "outputs": [
    {
     "name": "stdout",
     "output_type": "stream",
     "text": [
      "['Planilha1']\n"
     ]
    }
   ],
   "source": [
    "# Open Workbook\n",
    "wb = openpyxl.load_workbook(filename='./dataset/ExportPortalAntigo.xlsx', data_only=True)\n",
    "\n",
    "# Get All Sheets\n",
    "sheet_names = wb.sheetnames\n",
    "print(sheet_names)\n",
    "\n",
    "sheet_name = sheet_names[0]"
   ]
  },
  {
   "cell_type": "code",
   "execution_count": 6,
   "id": "73ef0eec",
   "metadata": {},
   "outputs": [
    {
     "name": "stdout",
     "output_type": "stream",
     "text": [
      "<Worksheet \"Planilha1\">\n"
     ]
    },
    {
     "name": "stderr",
     "output_type": "stream",
     "text": [
      "/tmp/ipykernel_3241858/1056591203.py:2: DeprecationWarning: Call to deprecated function get_sheet_by_name (Use wb[sheetname]).\n",
      "  o_sheet = wb.get_sheet_by_name(sheet_name)\n"
     ]
    }
   ],
   "source": [
    "# Get Sheet Object by names\n",
    "o_sheet = wb.get_sheet_by_name(sheet_name)\n",
    "print(o_sheet)"
   ]
  },
  {
   "cell_type": "code",
   "execution_count": null,
   "id": "95908cf1",
   "metadata": {},
   "outputs": [],
   "source": [
    "excelfile = pd.ExcelFile(\"./dataset/ExportPortalAntigo.xlsx\")"
   ]
  }
 ],
 "metadata": {
  "kernelspec": {
   "display_name": "Python 3 (ipykernel)",
   "language": "python",
   "name": "python3"
  },
  "language_info": {
   "codemirror_mode": {
    "name": "ipython",
    "version": 3
   },
   "file_extension": ".py",
   "mimetype": "text/x-python",
   "name": "python",
   "nbconvert_exporter": "python",
   "pygments_lexer": "ipython3",
   "version": "3.9.13"
  }
 },
 "nbformat": 4,
 "nbformat_minor": 5
}

{
 "cells": [
  {
   "cell_type": "code",
   "execution_count": 1,
   "id": "0b36ac01",
   "metadata": {},
   "outputs": [],
   "source": [
    "import glob\n",
    "from bs4 import BeautifulSoup\n",
    "import pandas as pd"
   ]
  },
  {
   "cell_type": "markdown",
   "id": "7f4acf1d",
   "metadata": {},
   "source": [
    "Parsing html files"
   ]
  },
  {
   "cell_type": "code",
   "execution_count": 8,
   "id": "c45cb53f",
   "metadata": {},
   "outputs": [
    {
     "name": "stdout",
     "output_type": "stream",
     "text": [
      "Number of files skipped:  438\n",
      "Number of items extracted from files:  672\n"
     ]
    }
   ],
   "source": [
    "# parsing all html files downloaded by the scraper\n",
    "all_data = []\n",
    "count = 0\n",
    "for file in glob.iglob(f'./data/*'):\n",
    "    with open(file) as fp:\n",
    "        # for now, ignoring pages with a different format than the one expected\n",
    "        try:\n",
    "            soup = BeautifulSoup(fp, \"html.parser\")\n",
    "            company_dict = {}\n",
    "            items = soup.find_all(\"p\", class_=\"dou-paragraph\")\n",
    "            for item in items:\n",
    "                item_text = item.get_text()\n",
    "                if 'Empresa:' in item_text:\n",
    "                    if company_dict:\n",
    "                        company_dict['text'] = company_dict['Empresa'] + company_dict['ProdutoLote'] + \\\n",
    "                        company_dict['ProdutoLote'] + company_dict['TipoProduto'] + company_dict['Assunto:'] + \\\n",
    "                        company_dict['AcaoFiscalizacao'] + company_dict['Motivacao']\n",
    "                        all_data.append(company_dict)\n",
    "                        company_dict = {}\n",
    "                    company_dict['Empresa'] = item_text.replace('Empresa:', '').lstrip().rstrip()\n",
    "                elif 'Produto - (Lote):' in item_text:\n",
    "                    company_dict['ProdutoLote'] = item_text.replace('Produto - (Lote):', '').lstrip().rstrip()\n",
    "                elif 'Tipo de Produto:' in item_text:\n",
    "                    company_dict['TipoProduto'] = item_text.replace('Tipo de Produto:', '').lstrip().rstrip()\n",
    "                elif 'Expediente nº:' in item_text:\n",
    "                    company_dict['ExpedienteNo'] = item_text.replace('Expediente nº:', '').lstrip().rstrip()\n",
    "                elif 'Assunto:' in item_text:\n",
    "                    company_dict['Assunto:'] = item_text.replace('Assunto:', '').lstrip().rstrip()\n",
    "                elif 'Ações de fiscalização:' in item_text:\n",
    "                    company_dict['AcaoFiscalizacao'] = item_text.replace('Ações de fiscalização:', '').lstrip().rstrip()\n",
    "                elif 'Motivação:' in item_text:\n",
    "                    company_dict['Motivacao'] = item_text.replace('Motivação:', '').lstrip().rstrip()                \n",
    "            if company_dict:\n",
    "                company_dict['text'] = company_dict['Empresa'] + company_dict['ProdutoLote'] + \\\n",
    "                        company_dict['ProdutoLote'] + company_dict['TipoProduto'] + company_dict['Assunto:'] + \\\n",
    "                        company_dict['AcaoFiscalizacao'] + company_dict['Motivacao']\n",
    "                all_data.append(company_dict)\n",
    "        except:\n",
    "            count += 1\n",
    "            continue\n",
    "            \n",
    "print('Number of files skipped: ', str(count))\n",
    "print('Number of items extracted from files: ', str(len(all_data)))"
   ]
  },
  {
   "cell_type": "code",
   "execution_count": 9,
   "id": "8c0c0f1b",
   "metadata": {},
   "outputs": [],
   "source": [
    "df = pd.DataFrame()\n",
    "df = pd.DataFrame.from_dict(all_data)"
   ]
  },
  {
   "cell_type": "code",
   "execution_count": 10,
   "id": "039aee91",
   "metadata": {},
   "outputs": [],
   "source": [
    "df.to_csv('anvisa_dataset.csv', index=False, sep='\\t')"
   ]
  },
  {
   "cell_type": "code",
   "execution_count": null,
   "id": "01e6bdda",
   "metadata": {},
   "outputs": [],
   "source": []
  }
 ],
 "metadata": {
  "kernelspec": {
   "display_name": "Python 3 (ipykernel)",
   "language": "python",
   "name": "python3"
  },
  "language_info": {
   "codemirror_mode": {
    "name": "ipython",
    "version": 3
   },
   "file_extension": ".py",
   "mimetype": "text/x-python",
   "name": "python",
   "nbconvert_exporter": "python",
   "pygments_lexer": "ipython3",
   "version": "3.9.13"
  }
 },
 "nbformat": 4,
 "nbformat_minor": 5
}

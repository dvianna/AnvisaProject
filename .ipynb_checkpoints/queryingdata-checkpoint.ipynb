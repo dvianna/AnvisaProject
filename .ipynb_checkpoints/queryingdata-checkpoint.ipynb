{
 "cells": [
  {
   "cell_type": "markdown",
   "id": "804e25a5",
   "metadata": {},
   "source": [
    "Installing packages..."
   ]
  },
  {
   "cell_type": "code",
   "execution_count": 5,
   "id": "acfd15cb",
   "metadata": {},
   "outputs": [
    {
     "name": "stdout",
     "output_type": "stream",
     "text": [
      "Python 3.9.13\r\n"
     ]
    }
   ],
   "source": [
    "!python --version"
   ]
  },
  {
   "cell_type": "code",
   "execution_count": 91,
   "id": "ed31adf8",
   "metadata": {},
   "outputs": [
    {
     "name": "stdout",
     "output_type": "stream",
     "text": [
      "Requirement already satisfied: langchain==0.0.230 in /home/dvianna/anaconda3/lib/python3.9/site-packages (0.0.230)\n",
      "Requirement already satisfied: dataclasses-json<0.6.0,>=0.5.7 in /home/dvianna/anaconda3/lib/python3.9/site-packages (from langchain==0.0.230) (0.5.7)\n",
      "Requirement already satisfied: tenacity<9.0.0,>=8.1.0 in /home/dvianna/anaconda3/lib/python3.9/site-packages (from langchain==0.0.230) (8.2.2)\n",
      "Requirement already satisfied: numexpr<3.0.0,>=2.8.4 in /home/dvianna/anaconda3/lib/python3.9/site-packages (from langchain==0.0.230) (2.8.4)\n",
      "Requirement already satisfied: numpy<2,>=1 in /home/dvianna/anaconda3/lib/python3.9/site-packages (from langchain==0.0.230) (1.24.4)\n",
      "Requirement already satisfied: pydantic<2,>=1 in /home/dvianna/anaconda3/lib/python3.9/site-packages (from langchain==0.0.230) (1.10.11)\n",
      "Requirement already satisfied: openapi-schema-pydantic<2.0,>=1.2 in /home/dvianna/anaconda3/lib/python3.9/site-packages (from langchain==0.0.230) (1.2.4)\n",
      "Requirement already satisfied: requests<3,>=2 in /home/dvianna/anaconda3/lib/python3.9/site-packages (from langchain==0.0.230) (2.28.1)\n",
      "Requirement already satisfied: async-timeout<5.0.0,>=4.0.0 in /home/dvianna/anaconda3/lib/python3.9/site-packages (from langchain==0.0.230) (4.0.2)\n",
      "Requirement already satisfied: langchainplus-sdk<0.0.21,>=0.0.20 in /home/dvianna/anaconda3/lib/python3.9/site-packages (from langchain==0.0.230) (0.0.20)\n",
      "Requirement already satisfied: SQLAlchemy<3,>=1.4 in /home/dvianna/anaconda3/lib/python3.9/site-packages (from langchain==0.0.230) (1.4.39)\n",
      "Requirement already satisfied: aiohttp<4.0.0,>=3.8.3 in /home/dvianna/anaconda3/lib/python3.9/site-packages (from langchain==0.0.230) (3.8.4)\n",
      "Requirement already satisfied: PyYAML>=5.4.1 in /home/dvianna/anaconda3/lib/python3.9/site-packages (from langchain==0.0.230) (6.0)\n",
      "Requirement already satisfied: attrs>=17.3.0 in /home/dvianna/anaconda3/lib/python3.9/site-packages (from aiohttp<4.0.0,>=3.8.3->langchain==0.0.230) (21.4.0)\n",
      "Requirement already satisfied: aiosignal>=1.1.2 in /home/dvianna/anaconda3/lib/python3.9/site-packages (from aiohttp<4.0.0,>=3.8.3->langchain==0.0.230) (1.3.1)\n",
      "Requirement already satisfied: multidict<7.0,>=4.5 in /home/dvianna/anaconda3/lib/python3.9/site-packages (from aiohttp<4.0.0,>=3.8.3->langchain==0.0.230) (6.0.4)\n",
      "Requirement already satisfied: charset-normalizer<4.0,>=2.0 in /home/dvianna/anaconda3/lib/python3.9/site-packages (from aiohttp<4.0.0,>=3.8.3->langchain==0.0.230) (2.0.4)\n",
      "Requirement already satisfied: yarl<2.0,>=1.0 in /home/dvianna/anaconda3/lib/python3.9/site-packages (from aiohttp<4.0.0,>=3.8.3->langchain==0.0.230) (1.9.2)\n",
      "Requirement already satisfied: frozenlist>=1.1.1 in /home/dvianna/anaconda3/lib/python3.9/site-packages (from aiohttp<4.0.0,>=3.8.3->langchain==0.0.230) (1.3.3)\n",
      "Requirement already satisfied: marshmallow<4.0.0,>=3.3.0 in /home/dvianna/anaconda3/lib/python3.9/site-packages (from dataclasses-json<0.6.0,>=0.5.7->langchain==0.0.230) (3.19.0)\n",
      "Requirement already satisfied: typing-inspect>=0.4.0 in /home/dvianna/anaconda3/lib/python3.9/site-packages (from dataclasses-json<0.6.0,>=0.5.7->langchain==0.0.230) (0.8.0)\n",
      "Requirement already satisfied: marshmallow-enum<2.0.0,>=1.5.1 in /home/dvianna/anaconda3/lib/python3.9/site-packages (from dataclasses-json<0.6.0,>=0.5.7->langchain==0.0.230) (1.5.1)\n",
      "Requirement already satisfied: typing-extensions>=4.2.0 in /home/dvianna/anaconda3/lib/python3.9/site-packages (from pydantic<2,>=1->langchain==0.0.230) (4.5.0)\n",
      "Requirement already satisfied: urllib3<1.27,>=1.21.1 in /home/dvianna/anaconda3/lib/python3.9/site-packages (from requests<3,>=2->langchain==0.0.230) (1.26.11)\n",
      "Requirement already satisfied: idna<4,>=2.5 in /home/dvianna/anaconda3/lib/python3.9/site-packages (from requests<3,>=2->langchain==0.0.230) (3.3)\n",
      "Requirement already satisfied: certifi>=2017.4.17 in /home/dvianna/anaconda3/lib/python3.9/site-packages (from requests<3,>=2->langchain==0.0.230) (2022.9.14)\n",
      "Requirement already satisfied: greenlet!=0.4.17 in /home/dvianna/anaconda3/lib/python3.9/site-packages (from SQLAlchemy<3,>=1.4->langchain==0.0.230) (1.1.1)\n",
      "Requirement already satisfied: packaging>=17.0 in /home/dvianna/anaconda3/lib/python3.9/site-packages (from marshmallow<4.0.0,>=3.3.0->dataclasses-json<0.6.0,>=0.5.7->langchain==0.0.230) (21.3)\n",
      "Requirement already satisfied: mypy-extensions>=0.3.0 in /home/dvianna/anaconda3/lib/python3.9/site-packages (from typing-inspect>=0.4.0->dataclasses-json<0.6.0,>=0.5.7->langchain==0.0.230) (0.4.3)\n",
      "Requirement already satisfied: pyparsing!=3.0.5,>=2.0.2 in /home/dvianna/anaconda3/lib/python3.9/site-packages (from packaging>=17.0->marshmallow<4.0.0,>=3.3.0->dataclasses-json<0.6.0,>=0.5.7->langchain==0.0.230) (3.0.9)\n"
     ]
    }
   ],
   "source": [
    "# !pip install langchain==0.0.230\n",
    "# !pip install transformers\n",
    "# !pip install faiss-gpu\n",
    "# !pip install chromadb\n",
    "# !pip install transformers"
   ]
  },
  {
   "cell_type": "markdown",
   "id": "12e75722",
   "metadata": {},
   "source": [
    "Importing libraries..."
   ]
  },
  {
   "cell_type": "code",
   "execution_count": 84,
   "id": "d5972f55",
   "metadata": {},
   "outputs": [],
   "source": [
    "from langchain.document_loaders.csv_loader import CSVLoader\n",
    "from langchain.embeddings import HuggingFaceEmbeddings\n",
    "from langchain.vectorstores import FAISS\n",
    "import os"
   ]
  },
  {
   "cell_type": "markdown",
   "id": "3ebb3b77",
   "metadata": {},
   "source": [
    "## Document loading..."
   ]
  },
  {
   "cell_type": "code",
   "execution_count": 85,
   "id": "5cbdcfcd",
   "metadata": {},
   "outputs": [
    {
     "name": "stdout",
     "output_type": "stream",
     "text": [
      "1238\n"
     ]
    }
   ],
   "source": [
    "loader = CSVLoader(file_path = 'anvisa_dataset.csv', \n",
    "                   csv_args = {'delimiter': '\\t'})\n",
    "data = loader.load()\n",
    "print(len(data))"
   ]
  },
  {
   "cell_type": "code",
   "execution_count": 86,
   "id": "d3f8ebe0",
   "metadata": {},
   "outputs": [
    {
     "name": "stdout",
     "output_type": "stream",
     "text": [
      "page_content='Empresa: Desconhecida - CNPJ: Desconhecido\\nProdutoLote: GEL ANTISSÉPTICO ASSEPTGEL CRISTAL 100 ML (Todos);\\nTipoProduto: Cosmético\\nExpedienteNo: 3560796/20-3\\nAssunto:: 70351 - MEDIDA PREVENTIVA- Ações de Fiscalização em Vigilância Sanitária\\nAcaoFiscalizacao: Apreensão, Proibição - Comercialização, Distribuição, Fabricação, Propaganda, Uso\\nMotivacao: Considerando que a empresa Lima & Pergher Indústria e Comércio S/A, CNPJ 22.685.341/0001-80, não reconhece a fabricação do produto em embalagem de 100 mL, se tratando, portanto, de falsificação, e se tratando também de produto sem registro e fabricado por empresa desconhecida infringindo os arts. 2º e 12 da Lei 6360, de 23 de setembro de 1976 e tendo em vista o previsto nos arts 6º, 7º e inciso I do art. 67 da Lei 6360, de 23 de setembro de 1976.' metadata={'source': 'anvisa_dataset.csv', 'row': 0}\n"
     ]
    }
   ],
   "source": [
    "print(data[0])"
   ]
  },
  {
   "cell_type": "code",
   "execution_count": 87,
   "id": "7cc043f2",
   "metadata": {},
   "outputs": [
    {
     "data": {
      "text/plain": [
       "'Empresa: Desconhecida - CNPJ: Desconhecido\\nProdutoLote: GEL ANTISSÉPTICO ASSEPTGEL CRISTAL 100 ML (Todos);\\nTipoProduto: Cosmético\\nExpedienteNo: 3560796/20-3\\nAssunto:: 70351 - MEDIDA PREVENTIVA- Ações de Fiscalização em Vigilância Sanitária\\nAcaoFiscalizacao: Apreensão, Proibição - Comercialização, Distribuição, Fabricação, Propaganda, Uso\\nMotivacao: Considerando que a empresa Lima & Pergher Indústria e Comércio S/A, CNPJ 22.685.341/0001-80, não reconhece a fabricação do produto em embalagem de 100 mL, se tratando, portanto, de falsificação, e se tratando também de produto sem registro e fabricado por empresa desconhecida infringindo os arts. 2º e 12 da Lei 6360, de 23 de setembro de 1976 e tendo em vista o previsto nos arts 6º, 7º e inciso I do art. 67 da Lei 6360, de 23 de setembro de 1976.'"
      ]
     },
     "execution_count": 87,
     "metadata": {},
     "output_type": "execute_result"
    }
   ],
   "source": [
    "content = data[0].page_content\n",
    "content"
   ]
  },
  {
   "cell_type": "markdown",
   "id": "f30040c6",
   "metadata": {},
   "source": [
    "## Loading language model to generate embeddings for each item in our dataset"
   ]
  },
  {
   "cell_type": "code",
   "execution_count": 88,
   "id": "dc8af463",
   "metadata": {},
   "outputs": [
    {
     "name": "stderr",
     "output_type": "stream",
     "text": [
      "No sentence-transformers model found with name /home/dvianna/.cache/torch/sentence_transformers/pucpr_biobertpt-all. Creating a new one with MEAN pooling.\n",
      "Some weights of the model checkpoint at /home/dvianna/.cache/torch/sentence_transformers/pucpr_biobertpt-all were not used when initializing BertModel: ['cls.predictions.decoder.bias', 'cls.predictions.transform.LayerNorm.weight', 'cls.predictions.transform.LayerNorm.bias', 'cls.predictions.bias', 'cls.predictions.decoder.weight', 'cls.predictions.transform.dense.bias', 'cls.predictions.transform.dense.weight']\n",
      "- This IS expected if you are initializing BertModel from the checkpoint of a model trained on another task or with another architecture (e.g. initializing a BertForSequenceClassification model from a BertForPreTraining model).\n",
      "- This IS NOT expected if you are initializing BertModel from the checkpoint of a model that you expect to be exactly identical (initializing a BertForSequenceClassification model from a BertForSequenceClassification model).\n"
     ]
    }
   ],
   "source": [
    "model_name = \"pucpr/biobertpt-all\"\n",
    "model_kwargs = {'device': 'cuda'}\n",
    "embedding = HuggingFaceEmbeddings(\n",
    "    model_name=model_name, \n",
    "    model_kwargs=model_kwargs\n",
    ")"
   ]
  },
  {
   "cell_type": "markdown",
   "id": "f1a030d2",
   "metadata": {},
   "source": [
    "## Retrieval - FAISS"
   ]
  },
  {
   "cell_type": "code",
   "execution_count": 89,
   "id": "e2043c42",
   "metadata": {},
   "outputs": [],
   "source": [
    "# directory to save faiss index. Faiss is not a vector database; however we can still save \n",
    "# the index  to disk for later use\n",
    "persist_directory = 'vectorstore/faiss/'"
   ]
  },
  {
   "cell_type": "code",
   "execution_count": 90,
   "id": "ea042267",
   "metadata": {},
   "outputs": [],
   "source": [
    "# Check if FAISS index exists. If not, create one\n",
    "if os.path.exists(index_path):\n",
    "    index = FAISS.load_local(folder_path=persist_directory, embeddings=embedding)\n",
    "else:\n",
    "    # create faiss index\n",
    "    index = FAISS.from_documents(data, embedding)   \n",
    "    # Save the index to be loaded in the future\n",
    "    index.save_local(folder_path=persist_directory)"
   ]
  },
  {
   "cell_type": "code",
   "execution_count": 91,
   "id": "845780b9",
   "metadata": {},
   "outputs": [],
   "source": [
    "# Quey\n",
    "query = 'European Directorate for the Quality of Medicines & HealthCare'"
   ]
  },
  {
   "cell_type": "code",
   "execution_count": 92,
   "id": "f72c7ce0",
   "metadata": {},
   "outputs": [
    {
     "data": {
      "text/plain": [
       "[Document(page_content='Empresa: 1.  SMS PHARMACEUTICALS LIMITED\\nProdutoLote: \\nTipoProduto: Insumo Farmacêutico\\nExpedienteNo: 3364435/19-7\\nAssunto:: 70351 - MEDIDA PREVENTIVA- Ações de Fiscalização em Vigilância Sanitária\\nAcaoFiscalizacao: Suspensão - Comercialização, Distribuição, Importação, Uso\\nMotivacao: Considerando a suspensão pelo European Directorate for the Quality of Medicines & HealthCare - EDQM do certificado de adequabilidade em razão da presença da impureza NDMA, para o insumo Cloridrato de Ranitidina, fabricado pela empresa SMS Pharmaceuticals Limited - Índia.', metadata={'source': 'anvisa_dataset_teste.csv', 'row': 5}),\n",
       " Document(page_content='Empresa: 2.  NCPC Hebei Huamin Pharmaceutical Co., Ltd - Cadastro Único: B.0137\\nProdutoLote: \\nTipoProduto: Insumo Farmacêutico\\nExpedienteNo: 3339258/19-7\\nAssunto:: 70351 - MEDIDA PREVENTIVA- Ações de Fiscalização em Vigilância Sanitária\\nAcaoFiscalizacao: Suspensão - Comercialização, Distribuição, Importação, Uso\\nMotivacao: Considerando o relatório de inspeção emitido pelo European Directorate for the Quality of Medicines & HealthCare - EDQM relativo a inspeção realizada em setembro de 2019 e avaliado em relação à regulamentação brasileira, sendo concluído que os apontamentos demonstram a presença não conformidades críticas e maiores, em desacordo com Artigos das RDCs 69/2014, 301/2019 e IN 35/2019, e com indicação de aplicação de medida sanitária padronizada, sendo a suspensão a medida mais indicada para os Insumos Farmacêuticos Ativos CEFALEXINA MONOIDRATADA, CEFTRIAXONA DISSÓDICA HEMIEPTAIDRATADA, CEFAZOLINA SÓDICA, CEFTAZIDIMA PENTAIDRATADA, CEFOXITINA SÓDICA e CLORIDRATO DE CEFEPIMA fabricados pela empresa NCPC HEBEI HUAMIN PHARMACEUTICAL CO., LTD - China.', metadata={'source': 'anvisa_dataset_teste.csv', 'row': 6}),\n",
       " Document(page_content='Empresa: 1.  VYTTRA DIAGNOSTICOS IMPORTACAO E EXPORTACAO LTDA - CNPJ: 00.904.728/0013-81\\nProdutoLote: Smart Test Covid-19 Vyttra(2006506);\\nTipoProduto: Produtos para Saúde (Correlatos)\\nExpedienteNo: 3642044/20-1\\nAssunto:: 70351 - MEDIDA PREVENTIVA- Ações de Fiscalização em Vigilância Sanitária\\nAcaoFiscalizacao: Suspensão - Comercialização, Distribuição, Uso\\nMotivacao: Considerando o Laudo de Análise nº 1236.1P.0/2020 emitido pelo Instituto Nacional de Controle de Qualidade em Saúde - INCQS, com resultado insatisfatório para os ensaios de sensibilidade e especificidade. Considerando que a empresa optou pela não realização da análise de contraprova informando que o lote não foi comercializado e será incinerado e considerando o Art. 34 da Lei nº 6437 de 20 de agosto de 1977.', metadata={'source': 'anvisa_dataset_teste.csv', 'row': 1})]"
      ]
     },
     "execution_count": 92,
     "metadata": {},
     "output_type": "execute_result"
    }
   ],
   "source": [
    "# based on relevance\n",
    "index.similarity_search(query, k=3)"
   ]
  },
  {
   "cell_type": "code",
   "execution_count": 93,
   "id": "ff36d183",
   "metadata": {},
   "outputs": [
    {
     "data": {
      "text/plain": [
       "[Document(page_content='Empresa: 1.  SMS PHARMACEUTICALS LIMITED\\nProdutoLote: \\nTipoProduto: Insumo Farmacêutico\\nExpedienteNo: 3364435/19-7\\nAssunto:: 70351 - MEDIDA PREVENTIVA- Ações de Fiscalização em Vigilância Sanitária\\nAcaoFiscalizacao: Suspensão - Comercialização, Distribuição, Importação, Uso\\nMotivacao: Considerando a suspensão pelo European Directorate for the Quality of Medicines & HealthCare - EDQM do certificado de adequabilidade em razão da presença da impureza NDMA, para o insumo Cloridrato de Ranitidina, fabricado pela empresa SMS Pharmaceuticals Limited - Índia.', metadata={'source': 'anvisa_dataset_teste.csv', 'row': 5}),\n",
       " Document(page_content='Empresa: 2.  NCPC Hebei Huamin Pharmaceutical Co., Ltd - Cadastro Único: B.0137\\nProdutoLote: \\nTipoProduto: Insumo Farmacêutico\\nExpedienteNo: 3339258/19-7\\nAssunto:: 70351 - MEDIDA PREVENTIVA- Ações de Fiscalização em Vigilância Sanitária\\nAcaoFiscalizacao: Suspensão - Comercialização, Distribuição, Importação, Uso\\nMotivacao: Considerando o relatório de inspeção emitido pelo European Directorate for the Quality of Medicines & HealthCare - EDQM relativo a inspeção realizada em setembro de 2019 e avaliado em relação à regulamentação brasileira, sendo concluído que os apontamentos demonstram a presença não conformidades críticas e maiores, em desacordo com Artigos das RDCs 69/2014, 301/2019 e IN 35/2019, e com indicação de aplicação de medida sanitária padronizada, sendo a suspensão a medida mais indicada para os Insumos Farmacêuticos Ativos CEFALEXINA MONOIDRATADA, CEFTRIAXONA DISSÓDICA HEMIEPTAIDRATADA, CEFAZOLINA SÓDICA, CEFTAZIDIMA PENTAIDRATADA, CEFOXITINA SÓDICA e CLORIDRATO DE CEFEPIMA fabricados pela empresa NCPC HEBEI HUAMIN PHARMACEUTICAL CO., LTD - China.', metadata={'source': 'anvisa_dataset_teste.csv', 'row': 6}),\n",
       " Document(page_content='Empresa: 1.  VYTTRA DIAGNOSTICOS IMPORTACAO E EXPORTACAO LTDA - CNPJ: 00.904.728/0013-81\\nProdutoLote: Smart Test Covid-19 Vyttra(2006506);\\nTipoProduto: Produtos para Saúde (Correlatos)\\nExpedienteNo: 3642044/20-1\\nAssunto:: 70351 - MEDIDA PREVENTIVA- Ações de Fiscalização em Vigilância Sanitária\\nAcaoFiscalizacao: Suspensão - Comercialização, Distribuição, Uso\\nMotivacao: Considerando o Laudo de Análise nº 1236.1P.0/2020 emitido pelo Instituto Nacional de Controle de Qualidade em Saúde - INCQS, com resultado insatisfatório para os ensaios de sensibilidade e especificidade. Considerando que a empresa optou pela não realização da análise de contraprova informando que o lote não foi comercializado e será incinerado e considerando o Art. 34 da Lei nº 6437 de 20 de agosto de 1977.', metadata={'source': 'anvisa_dataset_teste.csv', 'row': 1})]"
      ]
     },
     "execution_count": 93,
     "metadata": {},
     "output_type": "execute_result"
    }
   ],
   "source": [
    "# based on relevance and diversity\n",
    "index.max_marginal_relevance_search(query, k=3)"
   ]
  },
  {
   "cell_type": "code",
   "execution_count": 94,
   "id": "7518030f",
   "metadata": {},
   "outputs": [
    {
     "data": {
      "text/plain": [
       "[(Document(page_content='Empresa: 1.  SMS PHARMACEUTICALS LIMITED\\nProdutoLote: \\nTipoProduto: Insumo Farmacêutico\\nExpedienteNo: 3364435/19-7\\nAssunto:: 70351 - MEDIDA PREVENTIVA- Ações de Fiscalização em Vigilância Sanitária\\nAcaoFiscalizacao: Suspensão - Comercialização, Distribuição, Importação, Uso\\nMotivacao: Considerando a suspensão pelo European Directorate for the Quality of Medicines & HealthCare - EDQM do certificado de adequabilidade em razão da presença da impureza NDMA, para o insumo Cloridrato de Ranitidina, fabricado pela empresa SMS Pharmaceuticals Limited - Índia.', metadata={'source': 'anvisa_dataset_teste.csv', 'row': 5}),\n",
       "  46.57392),\n",
       " (Document(page_content='Empresa: 2.  NCPC Hebei Huamin Pharmaceutical Co., Ltd - Cadastro Único: B.0137\\nProdutoLote: \\nTipoProduto: Insumo Farmacêutico\\nExpedienteNo: 3339258/19-7\\nAssunto:: 70351 - MEDIDA PREVENTIVA- Ações de Fiscalização em Vigilância Sanitária\\nAcaoFiscalizacao: Suspensão - Comercialização, Distribuição, Importação, Uso\\nMotivacao: Considerando o relatório de inspeção emitido pelo European Directorate for the Quality of Medicines & HealthCare - EDQM relativo a inspeção realizada em setembro de 2019 e avaliado em relação à regulamentação brasileira, sendo concluído que os apontamentos demonstram a presença não conformidades críticas e maiores, em desacordo com Artigos das RDCs 69/2014, 301/2019 e IN 35/2019, e com indicação de aplicação de medida sanitária padronizada, sendo a suspensão a medida mais indicada para os Insumos Farmacêuticos Ativos CEFALEXINA MONOIDRATADA, CEFTRIAXONA DISSÓDICA HEMIEPTAIDRATADA, CEFAZOLINA SÓDICA, CEFTAZIDIMA PENTAIDRATADA, CEFOXITINA SÓDICA e CLORIDRATO DE CEFEPIMA fabricados pela empresa NCPC HEBEI HUAMIN PHARMACEUTICAL CO., LTD - China.', metadata={'source': 'anvisa_dataset_teste.csv', 'row': 6}),\n",
       "  52.905495),\n",
       " (Document(page_content='Empresa: 1.  VYTTRA DIAGNOSTICOS IMPORTACAO E EXPORTACAO LTDA - CNPJ: 00.904.728/0013-81\\nProdutoLote: Smart Test Covid-19 Vyttra(2006506);\\nTipoProduto: Produtos para Saúde (Correlatos)\\nExpedienteNo: 3642044/20-1\\nAssunto:: 70351 - MEDIDA PREVENTIVA- Ações de Fiscalização em Vigilância Sanitária\\nAcaoFiscalizacao: Suspensão - Comercialização, Distribuição, Uso\\nMotivacao: Considerando o Laudo de Análise nº 1236.1P.0/2020 emitido pelo Instituto Nacional de Controle de Qualidade em Saúde - INCQS, com resultado insatisfatório para os ensaios de sensibilidade e especificidade. Considerando que a empresa optou pela não realização da análise de contraprova informando que o lote não foi comercializado e será incinerado e considerando o Art. 34 da Lei nº 6437 de 20 de agosto de 1977.', metadata={'source': 'anvisa_dataset_teste.csv', 'row': 1}),\n",
       "  59.831177)]"
      ]
     },
     "execution_count": 94,
     "metadata": {},
     "output_type": "execute_result"
    }
   ],
   "source": [
    "index.similarity_search_with_score(query, k=3)"
   ]
  },
  {
   "cell_type": "markdown",
   "id": "4d902a86",
   "metadata": {},
   "source": [
    "## Retrieval - Contextual Compression"
   ]
  },
  {
   "cell_type": "code",
   "execution_count": 95,
   "id": "98f4604a",
   "metadata": {},
   "outputs": [],
   "source": [
    "from langchain.retrievers import ContextualCompressionRetriever\n",
    "from langchain.retrievers.document_compressors import LLMChainExtractor\n",
    "from langchain import HuggingFacePipeline"
   ]
  },
  {
   "cell_type": "code",
   "execution_count": 114,
   "id": "d4d56e8d",
   "metadata": {},
   "outputs": [
    {
     "name": "stderr",
     "output_type": "stream",
     "text": [
      "If you want to use `BertLMHeadModel` as a standalone, add `is_decoder=True.`\n",
      "Device has 1 GPUs available. Provide device={deviceId} to `from_model_id` to use availableGPUs for execution. deviceId is -1 (default) for CPU and can be a positive integer associated with CUDA device id.\n"
     ]
    },
    {
     "ename": "ValidationError",
     "evalue": "1 validation error for HuggingFacePipeline\nis_decoder\n  extra fields not permitted (type=value_error.extra)",
     "output_type": "error",
     "traceback": [
      "\u001b[0;31m---------------------------------------------------------------------------\u001b[0m",
      "\u001b[0;31mValidationError\u001b[0m                           Traceback (most recent call last)",
      "\u001b[0;32m/tmp/ipykernel_49304/2795508429.py\u001b[0m in \u001b[0;36m<module>\u001b[0;34m\u001b[0m\n\u001b[1;32m      1\u001b[0m \u001b[0mmodel_id\u001b[0m \u001b[0;34m=\u001b[0m \u001b[0;34m\"pucpr/biobertpt-all\"\u001b[0m\u001b[0;34m\u001b[0m\u001b[0;34m\u001b[0m\u001b[0m\n\u001b[0;32m----> 2\u001b[0;31m llm = HuggingFacePipeline.from_model_id(\n\u001b[0m\u001b[1;32m      3\u001b[0m     \u001b[0mmodel_id\u001b[0m\u001b[0;34m=\u001b[0m\u001b[0mmodel_id\u001b[0m\u001b[0;34m,\u001b[0m\u001b[0;34m\u001b[0m\u001b[0;34m\u001b[0m\u001b[0m\n\u001b[1;32m      4\u001b[0m     \u001b[0mtask\u001b[0m\u001b[0;34m=\u001b[0m\u001b[0;34m\"text-generation\"\u001b[0m\u001b[0;34m,\u001b[0m\u001b[0;34m\u001b[0m\u001b[0;34m\u001b[0m\u001b[0m\n\u001b[1;32m      5\u001b[0m     \u001b[0mmodel_kwargs\u001b[0m\u001b[0;34m=\u001b[0m\u001b[0;34m{\u001b[0m\u001b[0;34m\"temperature\"\u001b[0m\u001b[0;34m:\u001b[0m \u001b[0;36m0\u001b[0m\u001b[0;34m,\u001b[0m \u001b[0;34m\"max_length\"\u001b[0m\u001b[0;34m:\u001b[0m \u001b[0;36m512\u001b[0m\u001b[0;34m}\u001b[0m\u001b[0;34m,\u001b[0m\u001b[0;34m\u001b[0m\u001b[0;34m\u001b[0m\u001b[0m\n",
      "\u001b[0;32m~/anaconda3/lib/python3.9/site-packages/langchain/llms/huggingface_pipeline.py\u001b[0m in \u001b[0;36mfrom_model_id\u001b[0;34m(cls, model_id, task, device, model_kwargs, pipeline_kwargs, **kwargs)\u001b[0m\n\u001b[1;32m    139\u001b[0m                 \u001b[0;34mf\"currently only {VALID_TASKS} are supported\"\u001b[0m\u001b[0;34m\u001b[0m\u001b[0;34m\u001b[0m\u001b[0m\n\u001b[1;32m    140\u001b[0m             )\n\u001b[0;32m--> 141\u001b[0;31m         return cls(\n\u001b[0m\u001b[1;32m    142\u001b[0m             \u001b[0mpipeline\u001b[0m\u001b[0;34m=\u001b[0m\u001b[0mpipeline\u001b[0m\u001b[0;34m,\u001b[0m\u001b[0;34m\u001b[0m\u001b[0;34m\u001b[0m\u001b[0m\n\u001b[1;32m    143\u001b[0m             \u001b[0mmodel_id\u001b[0m\u001b[0;34m=\u001b[0m\u001b[0mmodel_id\u001b[0m\u001b[0;34m,\u001b[0m\u001b[0;34m\u001b[0m\u001b[0;34m\u001b[0m\u001b[0m\n",
      "\u001b[0;32m~/anaconda3/lib/python3.9/site-packages/langchain/load/serializable.py\u001b[0m in \u001b[0;36m__init__\u001b[0;34m(self, **kwargs)\u001b[0m\n\u001b[1;32m     72\u001b[0m \u001b[0;34m\u001b[0m\u001b[0m\n\u001b[1;32m     73\u001b[0m     \u001b[0;32mdef\u001b[0m \u001b[0m__init__\u001b[0m\u001b[0;34m(\u001b[0m\u001b[0mself\u001b[0m\u001b[0;34m,\u001b[0m \u001b[0;34m**\u001b[0m\u001b[0mkwargs\u001b[0m\u001b[0;34m:\u001b[0m \u001b[0mAny\u001b[0m\u001b[0;34m)\u001b[0m \u001b[0;34m->\u001b[0m \u001b[0;32mNone\u001b[0m\u001b[0;34m:\u001b[0m\u001b[0;34m\u001b[0m\u001b[0;34m\u001b[0m\u001b[0m\n\u001b[0;32m---> 74\u001b[0;31m         \u001b[0msuper\u001b[0m\u001b[0;34m(\u001b[0m\u001b[0;34m)\u001b[0m\u001b[0;34m.\u001b[0m\u001b[0m__init__\u001b[0m\u001b[0;34m(\u001b[0m\u001b[0;34m**\u001b[0m\u001b[0mkwargs\u001b[0m\u001b[0;34m)\u001b[0m\u001b[0;34m\u001b[0m\u001b[0;34m\u001b[0m\u001b[0m\n\u001b[0m\u001b[1;32m     75\u001b[0m         \u001b[0mself\u001b[0m\u001b[0;34m.\u001b[0m\u001b[0m_lc_kwargs\u001b[0m \u001b[0;34m=\u001b[0m \u001b[0mkwargs\u001b[0m\u001b[0;34m\u001b[0m\u001b[0;34m\u001b[0m\u001b[0m\n\u001b[1;32m     76\u001b[0m \u001b[0;34m\u001b[0m\u001b[0m\n",
      "\u001b[0;32m~/anaconda3/lib/python3.9/site-packages/pydantic/main.cpython-39-x86_64-linux-gnu.so\u001b[0m in \u001b[0;36mpydantic.main.BaseModel.__init__\u001b[0;34m()\u001b[0m\n",
      "\u001b[0;31mValidationError\u001b[0m: 1 validation error for HuggingFacePipeline\nis_decoder\n  extra fields not permitted (type=value_error.extra)"
     ]
    }
   ],
   "source": [
    "model_id = \"bigscience/bloomz-1b7\"\n",
    "llm = HuggingFacePipeline.from_model_id(\n",
    "    model_id=model_id,\n",
    "    task=\"text-generation\",\n",
    "    model_kwargs={\"temperature\": 0, \"max_length\": 512}\n",
    ")"
   ]
  },
  {
   "cell_type": "code",
   "execution_count": 108,
   "id": "eb44b3cd",
   "metadata": {},
   "outputs": [],
   "source": [
    "compressor = LLMChainExtractor.from_llm(llm)"
   ]
  },
  {
   "cell_type": "code",
   "execution_count": 109,
   "id": "de54bfad",
   "metadata": {},
   "outputs": [],
   "source": [
    "# Retrieval + document compression\n",
    "# After retrieving the relevant documents, those documents are compressed. It means that only the relevant \n",
    "# information of each document, regarding the query context, is returned. \n",
    "retriever = ContextualCompressionRetriever(\n",
    "    base_compressor=compressor,\n",
    "    base_retriever=index.as_retriever(k=3)\n",
    ")"
   ]
  },
  {
   "cell_type": "code",
   "execution_count": 110,
   "id": "877ac428",
   "metadata": {},
   "outputs": [],
   "source": [
    "query = 'European Directorate for the Quality of Medicines & HealthCare'\n",
    "compressed_docs = retriever.get_relevant_documents(query)"
   ]
  },
  {
   "cell_type": "code",
   "execution_count": 111,
   "id": "5284e060",
   "metadata": {},
   "outputs": [
    {
     "name": "stdout",
     "output_type": "stream",
     "text": [
      "0: : : : : : : : : : : : : : : : : : : : : : : : : : : : : : : : : : : : : : : : : : : : : : : : : : : : : : : : : : : : : : : : : : : : : : : : : :,,,,,,,,,,,,,,,,,,,,,,,,,,,,,,,,,,,,,,,,,,,,,,,,,,,,,,,,,,,,,,,,,,,,,,,,,,,,,,,,,,,,,,,,,,,,,,,,,,,,,,,,,,,,,,,,,,,,,,,,,,,,,,,,,,,,,,,,,,,,,,,,,,,,,,,,,,,,,,,,,,,,,,,,,,\n",
      "1: : : : : : : : : : : : : : : : : : : : : : : : : : - - - - - - - - - - - - - - - - - - - - - - - - - - - - - - - - -\n",
      "2: : : : : : : : : : : : : : : : : : : : : : : : : : : : : : : : : : : : : : : : : : : : : : : : : : : : : : : : : : : : : : : : : : : : : : : : : : : : : : : : : : : : : : : : : : : : : : : : : : : : : : : : : : : : : : : : : : : : : : : : : : : : : : : : : : : : : : : : : : : : : : : : : : : : : : : : : : : : : : : : : : :\n",
      "3: : : : : : : : : : : : : : : : : : : : : : : : : : : : : : : : : : : : : : : : : : : : : : : : : : : : : : : : : : : : : : : : : : : : : : : : : : : : : : : : : : : : : : : : : : : : : : : : : : : : : : : : : : : : : : : : : : : : : : : : : : : : : : : : : : : : : : : : : : : : : : : : : : : : : : : : : : : : : : : : : : : : : : : : : : : :,,,,,,,,,,,,,,,,,,,,,,,,,,,,,,,,,,,,,,,\n"
     ]
    }
   ],
   "source": [
    "for i, doc in enumerate(compressed_docs):\n",
    "    print('%d: %s' % (i, doc.page_content))"
   ]
  },
  {
   "cell_type": "code",
   "execution_count": null,
   "id": "af448546",
   "metadata": {},
   "outputs": [],
   "source": []
  }
 ],
 "metadata": {
  "kernelspec": {
   "display_name": "Python 3 (ipykernel)",
   "language": "python",
   "name": "python3"
  },
  "language_info": {
   "codemirror_mode": {
    "name": "ipython",
    "version": 3
   },
   "file_extension": ".py",
   "mimetype": "text/x-python",
   "name": "python",
   "nbconvert_exporter": "python",
   "pygments_lexer": "ipython3",
   "version": "3.9.13"
  }
 },
 "nbformat": 4,
 "nbformat_minor": 5
}
